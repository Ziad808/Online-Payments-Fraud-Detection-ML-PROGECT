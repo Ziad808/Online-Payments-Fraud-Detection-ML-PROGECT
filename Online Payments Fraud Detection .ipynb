{
 "cells": [
  {
   "cell_type": "code",
   "execution_count": 2,
   "id": "195fd746-12ba-4c36-bf4c-32114041bf73",
   "metadata": {},
   "outputs": [],
   "source": [
    "import pandas as pd\n",
    "import numpy as np\n",
    "import matplotlib.pyplot as plt\n",
    "import seaborn as sns \n",
    "from sklearn.model_selection import train_test_split\n"
   ]
  },
  {
   "cell_type": "code",
   "execution_count": 3,
   "id": "5bb71648-5494-4267-9928-262dfb5ad396",
   "metadata": {},
   "outputs": [
    {
     "ename": "SyntaxError",
     "evalue": "(unicode error) 'unicodeescape' codec can't decode bytes in position 2-3: truncated \\UXXXXXXXX escape (4287155179.py, line 1)",
     "output_type": "error",
     "traceback": [
      "\u001b[1;36m  Cell \u001b[1;32mIn[3], line 1\u001b[1;36m\u001b[0m\n\u001b[1;33m    data = pd.read_csv(\"C:\\Users\\admin\\Downloads\\Transactions.csv\")\u001b[0m\n\u001b[1;37m                       ^\u001b[0m\n\u001b[1;31mSyntaxError\u001b[0m\u001b[1;31m:\u001b[0m (unicode error) 'unicodeescape' codec can't decode bytes in position 2-3: truncated \\UXXXXXXXX escape\n"
     ]
    }
   ],
   "source": [
    "data = pd.read_csv(\"C:\\Users\\admin\\Downloads\\Transactions.csv\")"
   ]
  },
  {
   "cell_type": "code",
   "execution_count": 4,
   "id": "0a7d51eb-a0d9-41cc-8e9a-8f18b740f08f",
   "metadata": {},
   "outputs": [],
   "source": [
    "#Python interprets backslashes (`\\`) in strings as escape characters.In your file path, the `\\U` in `\\Users` is being interpreted as the start of a Unicode escape sequence, causing the error.\n",
    "\n",
    "# Fix 1: Use raw string by adding 'r' prefix\n",
    "data = pd.read_csv(r\"C:\\Users\\admin\\Downloads\\Transactions.csv\")\n",
    "\n",
    "# OR Fix 2: Use forward slashes instead of backslashes\n",
    "# data = pd.read_csv(\"C:/Users/admin/Downloads/Transactions.csv\"\n",
    "\n",
    "# OR Fix 3: Use double backslashes to escape them\n",
    "# data = pd.read_csv(\"C:\\\\Users\\\\admin\\\\Downloads\\\\Transactions.csv\")"
   ]
  },
  {
   "cell_type": "code",
   "execution_count": 5,
   "id": "2dcc8008-347a-45be-ab6b-57e8a704caf5",
   "metadata": {},
   "outputs": [
    {
     "data": {
      "text/html": [
       "<div>\n",
       "<style scoped>\n",
       "    .dataframe tbody tr th:only-of-type {\n",
       "        vertical-align: middle;\n",
       "    }\n",
       "\n",
       "    .dataframe tbody tr th {\n",
       "        vertical-align: top;\n",
       "    }\n",
       "\n",
       "    .dataframe thead th {\n",
       "        text-align: right;\n",
       "    }\n",
       "</style>\n",
       "<table border=\"1\" class=\"dataframe\">\n",
       "  <thead>\n",
       "    <tr style=\"text-align: right;\">\n",
       "      <th></th>\n",
       "      <th>step</th>\n",
       "      <th>type</th>\n",
       "      <th>amount</th>\n",
       "      <th>nameOrig</th>\n",
       "      <th>oldbalanceOrg</th>\n",
       "      <th>newbalanceOrig</th>\n",
       "      <th>nameDest</th>\n",
       "      <th>oldbalanceDest</th>\n",
       "      <th>newbalanceDest</th>\n",
       "      <th>isFraud</th>\n",
       "      <th>isFlaggedFraud</th>\n",
       "    </tr>\n",
       "  </thead>\n",
       "  <tbody>\n",
       "    <tr>\n",
       "      <th>0</th>\n",
       "      <td>1</td>\n",
       "      <td>PAYMENT</td>\n",
       "      <td>9839.64</td>\n",
       "      <td>C1231006815</td>\n",
       "      <td>170136.0</td>\n",
       "      <td>160296.36</td>\n",
       "      <td>M1979787155</td>\n",
       "      <td>0.0</td>\n",
       "      <td>0.0</td>\n",
       "      <td>0</td>\n",
       "      <td>0</td>\n",
       "    </tr>\n",
       "    <tr>\n",
       "      <th>1</th>\n",
       "      <td>1</td>\n",
       "      <td>PAYMENT</td>\n",
       "      <td>1864.28</td>\n",
       "      <td>C1666544295</td>\n",
       "      <td>21249.0</td>\n",
       "      <td>19384.72</td>\n",
       "      <td>M2044282225</td>\n",
       "      <td>0.0</td>\n",
       "      <td>0.0</td>\n",
       "      <td>0</td>\n",
       "      <td>0</td>\n",
       "    </tr>\n",
       "    <tr>\n",
       "      <th>2</th>\n",
       "      <td>1</td>\n",
       "      <td>TRANSFER</td>\n",
       "      <td>181.00</td>\n",
       "      <td>C1305486145</td>\n",
       "      <td>181.0</td>\n",
       "      <td>0.00</td>\n",
       "      <td>C553264065</td>\n",
       "      <td>0.0</td>\n",
       "      <td>0.0</td>\n",
       "      <td>1</td>\n",
       "      <td>0</td>\n",
       "    </tr>\n",
       "    <tr>\n",
       "      <th>3</th>\n",
       "      <td>1</td>\n",
       "      <td>CASH_OUT</td>\n",
       "      <td>181.00</td>\n",
       "      <td>C840083671</td>\n",
       "      <td>181.0</td>\n",
       "      <td>0.00</td>\n",
       "      <td>C38997010</td>\n",
       "      <td>21182.0</td>\n",
       "      <td>0.0</td>\n",
       "      <td>1</td>\n",
       "      <td>0</td>\n",
       "    </tr>\n",
       "    <tr>\n",
       "      <th>4</th>\n",
       "      <td>1</td>\n",
       "      <td>PAYMENT</td>\n",
       "      <td>11668.14</td>\n",
       "      <td>C2048537720</td>\n",
       "      <td>41554.0</td>\n",
       "      <td>29885.86</td>\n",
       "      <td>M1230701703</td>\n",
       "      <td>0.0</td>\n",
       "      <td>0.0</td>\n",
       "      <td>0</td>\n",
       "      <td>0</td>\n",
       "    </tr>\n",
       "  </tbody>\n",
       "</table>\n",
       "</div>"
      ],
      "text/plain": [
       "   step      type    amount     nameOrig  oldbalanceOrg  newbalanceOrig  \\\n",
       "0     1   PAYMENT   9839.64  C1231006815       170136.0       160296.36   \n",
       "1     1   PAYMENT   1864.28  C1666544295        21249.0        19384.72   \n",
       "2     1  TRANSFER    181.00  C1305486145          181.0            0.00   \n",
       "3     1  CASH_OUT    181.00   C840083671          181.0            0.00   \n",
       "4     1   PAYMENT  11668.14  C2048537720        41554.0        29885.86   \n",
       "\n",
       "      nameDest  oldbalanceDest  newbalanceDest  isFraud  isFlaggedFraud  \n",
       "0  M1979787155             0.0             0.0        0               0  \n",
       "1  M2044282225             0.0             0.0        0               0  \n",
       "2   C553264065             0.0             0.0        1               0  \n",
       "3    C38997010         21182.0             0.0        1               0  \n",
       "4  M1230701703             0.0             0.0        0               0  "
      ]
     },
     "execution_count": 5,
     "metadata": {},
     "output_type": "execute_result"
    }
   ],
   "source": [
    "data.head(5)"
   ]
  },
  {
   "cell_type": "code",
   "execution_count": null,
   "id": "f7d7569e-d374-4ddc-b1f8-11b827b72a05",
   "metadata": {},
   "outputs": [],
   "source": [
    "data.shape"
   ]
  },
  {
   "cell_type": "code",
   "execution_count": null,
   "id": "bc4b9303-f4c7-4b67-937b-36507d404e35",
   "metadata": {},
   "outputs": [],
   "source": [
    "data.tail()"
   ]
  },
  {
   "cell_type": "code",
   "execution_count": null,
   "id": "b959575b-c61f-4687-a4a3-27f3a85c6cb2",
   "metadata": {},
   "outputs": [],
   "source": [
    "data.isnull().sum()"
   ]
  },
  {
   "cell_type": "code",
   "execution_count": null,
   "id": "15fc0388-82e3-4d8a-9b1f-de18bd73ea32",
   "metadata": {},
   "outputs": [],
   "source": [
    "data.info()"
   ]
  },
  {
   "cell_type": "code",
   "execution_count": null,
   "id": "af627382-8080-4832-8791-2fe775e69448",
   "metadata": {},
   "outputs": [],
   "source": [
    "correlation = data.corr()\n",
    "print(correlation[\"isFraud\"].sort_values(ascending=False))"
   ]
  },
  {
   "cell_type": "code",
   "execution_count": null,
   "id": "7ebb39e8-1c70-447d-b7a1-b99733cd6f65",
   "metadata": {},
   "outputs": [],
   "source": [
    "# Filter only numeric columns before calculating correlation\n",
    "numeric_data = data.select_dtypes(include=['number'])\n",
    "correlation = numeric_data.corr()\n",
    "print(correlation[\"isFraud\"].sort_values(ascending=False))"
   ]
  },
  {
   "cell_type": "code",
   "execution_count": null,
   "id": "31913570-349d-40b2-ac39-2266dc10a1d9",
   "metadata": {},
   "outputs": [],
   "source": [
    "data.type.value_counts()"
   ]
  },
  {
   "cell_type": "code",
   "execution_count": null,
   "id": "544ecb70-1942-4b30-ba10-220c41a2d20b",
   "metadata": {},
   "outputs": [],
   "source": [
    "type= data[\"type\"].value_counts()\n",
    "transactions = type.index\n",
    "quantity = type.values\n",
    "\n",
    "import plotly.express as px\n",
    "\n",
    "figure = px.pie(data,\n",
    "                values=quantity\n",
    "                ,names=transactions,\n",
    "                title=\"Distribution of data\")\n",
    "figure.show()\n"
   ]
  },
  {
   "cell_type": "code",
   "execution_count": null,
   "id": "a656aa58-4515-46ac-a5c1-93100cb3dc54",
   "metadata": {},
   "outputs": [],
   "source": [
    "data[\"type\"] = data[\"type\"].replace({\"CASH_OUT\" : 1,\n",
    "                                     \"PAYMENT\" : 2,\n",
    "                                     \"CASH_IN\" : 3,\n",
    "                                     \"TRANSFER\" : 4,\n",
    "                                     \"DEBIT\" : 5})\n"
   ]
  },
  {
   "cell_type": "code",
   "execution_count": null,
   "id": "6c19e93a-e41e-4e97-a84c-a049db1ce194",
   "metadata": {},
   "outputs": [],
   "source": [
    "data[\"isFraud\"] = data[\"isFraud\"].replace({ 0 : \"isFraud\" , 1 :\"Fraud\"})"
   ]
  },
  {
   "cell_type": "code",
   "execution_count": null,
   "id": "d4ed4387-b591-4e60-9f9c-edaab309a820",
   "metadata": {},
   "outputs": [],
   "source": [
    "data.head(5)"
   ]
  },
  {
   "cell_type": "code",
   "execution_count": null,
   "id": "4007b59d-d68b-4b26-a0c0-e81bbcca8203",
   "metadata": {},
   "outputs": [],
   "source": [
    "\n",
    "x = np.array(data[[\"step\",\"type\",\"amount\",\"oldbalanceOrg\",\"newbalanceOrig\",]])\n",
    "y = np.array(data[[\"isFraud\"]])\n",
    "\n",
    "x_train,x_test,y_train,y_test=  train_test_split(x,y,test_size=.1, random_state=42)\n"
   ]
  },
  {
   "cell_type": "code",
   "execution_count": null,
   "id": "4dcddebb-10fe-4e76-9650-48f5e566c564",
   "metadata": {},
   "outputs": [],
   "source": [
    "from sklearn.linear_model import LogisticRegression\n",
    "\n",
    "model1 = LogisticRegression()\n",
    "\n",
    "model1.fit( x_train,y_train.ravel())"
   ]
  },
  {
   "cell_type": "code",
   "execution_count": null,
   "id": "f11158ef-93e7-4056-a8b7-62b73de18e26",
   "metadata": {},
   "outputs": [],
   "source": [
    "print('LogisticRegression', model1.score(x_test,y_test))\n",
    "      "
   ]
  },
  {
   "cell_type": "code",
   "execution_count": null,
   "id": "d816c1a7-06b0-4739-aaca-86b286cf48dd",
   "metadata": {},
   "outputs": [],
   "source": [
    "# Prediction\n",
    "# step , type , amount ,oldbalanceOrg ,newbalanceOrig\n",
    "features = np.array([[ 1 , 2 , 1864.28 , 21249.0 , 19384.72 ]])\n",
    "print(model1.predict(features))\n"
   ]
  },
  {
   "cell_type": "code",
   "execution_count": null,
   "id": "6bb948f5-a04f-4cc9-8837-3d63b8fcd056",
   "metadata": {},
   "outputs": [],
   "source": []
  }
 ],
 "metadata": {
  "kernelspec": {
   "display_name": "Python [conda env:base] *",
   "language": "python",
   "name": "conda-base-py"
  },
  "language_info": {
   "codemirror_mode": {
    "name": "ipython",
    "version": 3
   },
   "file_extension": ".py",
   "mimetype": "text/x-python",
   "name": "python",
   "nbconvert_exporter": "python",
   "pygments_lexer": "ipython3",
   "version": "3.13.5"
  }
 },
 "nbformat": 4,
 "nbformat_minor": 5
}
